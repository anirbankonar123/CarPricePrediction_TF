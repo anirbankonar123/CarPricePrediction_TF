{
 "cells": [
  {
   "cell_type": "code",
   "execution_count": 25,
   "metadata": {},
   "outputs": [],
   "source": [
    "import pandas as pd\n",
    "import numpy as np\n",
    "#Import all necessary libraries\n",
    "import matplotlib.pyplot as plt\n",
    "from sklearn.model_selection import train_test_split\n",
    "from sklearn.model_selection import StratifiedShuffleSplit\n",
    "#from sklearn.preprocessing import Imputer\n",
    "from sklearn.preprocessing import LabelEncoder\n",
    "from sklearn.preprocessing import OneHotEncoder\n",
    "from sklearn.preprocessing import LabelBinarizer\n",
    "from sklearn.base import BaseEstimator, TransformerMixin\n",
    "from sklearn.preprocessing import StandardScaler\n",
    "from sklearn.preprocessing import MinMaxScaler\n",
    "from sklearn.preprocessing import PolynomialFeatures"
   ]
  },
  {
   "cell_type": "code",
   "execution_count": 2,
   "metadata": {},
   "outputs": [
    {
     "data": {
      "text/html": [
       "<div>\n",
       "<style scoped>\n",
       "    .dataframe tbody tr th:only-of-type {\n",
       "        vertical-align: middle;\n",
       "    }\n",
       "\n",
       "    .dataframe tbody tr th {\n",
       "        vertical-align: top;\n",
       "    }\n",
       "\n",
       "    .dataframe thead th {\n",
       "        text-align: right;\n",
       "    }\n",
       "</style>\n",
       "<table border=\"1\" class=\"dataframe\">\n",
       "  <thead>\n",
       "    <tr style=\"text-align: right;\">\n",
       "      <th></th>\n",
       "      <th>Make</th>\n",
       "      <th>Model</th>\n",
       "      <th>Year</th>\n",
       "      <th>Engine Fuel Type</th>\n",
       "      <th>Engine HP</th>\n",
       "      <th>Engine Cylinders</th>\n",
       "      <th>Transmission Type</th>\n",
       "      <th>Driven_Wheels</th>\n",
       "      <th>Number of Doors</th>\n",
       "      <th>Market Category</th>\n",
       "      <th>Vehicle Size</th>\n",
       "      <th>Vehicle Style</th>\n",
       "      <th>highway MPG</th>\n",
       "      <th>city mpg</th>\n",
       "      <th>Popularity</th>\n",
       "      <th>MSRP</th>\n",
       "    </tr>\n",
       "  </thead>\n",
       "  <tbody>\n",
       "    <tr>\n",
       "      <th>0</th>\n",
       "      <td>BMW</td>\n",
       "      <td>1 Series M</td>\n",
       "      <td>2011</td>\n",
       "      <td>premium unleaded (required)</td>\n",
       "      <td>335.0</td>\n",
       "      <td>6.0</td>\n",
       "      <td>MANUAL</td>\n",
       "      <td>rear wheel drive</td>\n",
       "      <td>2.0</td>\n",
       "      <td>Factory Tuner,Luxury,High-Performance</td>\n",
       "      <td>Compact</td>\n",
       "      <td>Coupe</td>\n",
       "      <td>26</td>\n",
       "      <td>19</td>\n",
       "      <td>3916</td>\n",
       "      <td>46135</td>\n",
       "    </tr>\n",
       "    <tr>\n",
       "      <th>1</th>\n",
       "      <td>BMW</td>\n",
       "      <td>1 Series</td>\n",
       "      <td>2011</td>\n",
       "      <td>premium unleaded (required)</td>\n",
       "      <td>300.0</td>\n",
       "      <td>6.0</td>\n",
       "      <td>MANUAL</td>\n",
       "      <td>rear wheel drive</td>\n",
       "      <td>2.0</td>\n",
       "      <td>Luxury,Performance</td>\n",
       "      <td>Compact</td>\n",
       "      <td>Convertible</td>\n",
       "      <td>28</td>\n",
       "      <td>19</td>\n",
       "      <td>3916</td>\n",
       "      <td>40650</td>\n",
       "    </tr>\n",
       "    <tr>\n",
       "      <th>2</th>\n",
       "      <td>BMW</td>\n",
       "      <td>1 Series</td>\n",
       "      <td>2011</td>\n",
       "      <td>premium unleaded (required)</td>\n",
       "      <td>300.0</td>\n",
       "      <td>6.0</td>\n",
       "      <td>MANUAL</td>\n",
       "      <td>rear wheel drive</td>\n",
       "      <td>2.0</td>\n",
       "      <td>Luxury,High-Performance</td>\n",
       "      <td>Compact</td>\n",
       "      <td>Coupe</td>\n",
       "      <td>28</td>\n",
       "      <td>20</td>\n",
       "      <td>3916</td>\n",
       "      <td>36350</td>\n",
       "    </tr>\n",
       "    <tr>\n",
       "      <th>3</th>\n",
       "      <td>BMW</td>\n",
       "      <td>1 Series</td>\n",
       "      <td>2011</td>\n",
       "      <td>premium unleaded (required)</td>\n",
       "      <td>230.0</td>\n",
       "      <td>6.0</td>\n",
       "      <td>MANUAL</td>\n",
       "      <td>rear wheel drive</td>\n",
       "      <td>2.0</td>\n",
       "      <td>Luxury,Performance</td>\n",
       "      <td>Compact</td>\n",
       "      <td>Coupe</td>\n",
       "      <td>28</td>\n",
       "      <td>18</td>\n",
       "      <td>3916</td>\n",
       "      <td>29450</td>\n",
       "    </tr>\n",
       "    <tr>\n",
       "      <th>4</th>\n",
       "      <td>BMW</td>\n",
       "      <td>1 Series</td>\n",
       "      <td>2011</td>\n",
       "      <td>premium unleaded (required)</td>\n",
       "      <td>230.0</td>\n",
       "      <td>6.0</td>\n",
       "      <td>MANUAL</td>\n",
       "      <td>rear wheel drive</td>\n",
       "      <td>2.0</td>\n",
       "      <td>Luxury</td>\n",
       "      <td>Compact</td>\n",
       "      <td>Convertible</td>\n",
       "      <td>28</td>\n",
       "      <td>18</td>\n",
       "      <td>3916</td>\n",
       "      <td>34500</td>\n",
       "    </tr>\n",
       "  </tbody>\n",
       "</table>\n",
       "</div>"
      ],
      "text/plain": [
       "  Make       Model  Year             Engine Fuel Type  Engine HP  \\\n",
       "0  BMW  1 Series M  2011  premium unleaded (required)      335.0   \n",
       "1  BMW    1 Series  2011  premium unleaded (required)      300.0   \n",
       "2  BMW    1 Series  2011  premium unleaded (required)      300.0   \n",
       "3  BMW    1 Series  2011  premium unleaded (required)      230.0   \n",
       "4  BMW    1 Series  2011  premium unleaded (required)      230.0   \n",
       "\n",
       "   Engine Cylinders Transmission Type     Driven_Wheels  Number of Doors  \\\n",
       "0               6.0            MANUAL  rear wheel drive              2.0   \n",
       "1               6.0            MANUAL  rear wheel drive              2.0   \n",
       "2               6.0            MANUAL  rear wheel drive              2.0   \n",
       "3               6.0            MANUAL  rear wheel drive              2.0   \n",
       "4               6.0            MANUAL  rear wheel drive              2.0   \n",
       "\n",
       "                         Market Category Vehicle Size Vehicle Style  \\\n",
       "0  Factory Tuner,Luxury,High-Performance      Compact         Coupe   \n",
       "1                     Luxury,Performance      Compact   Convertible   \n",
       "2                Luxury,High-Performance      Compact         Coupe   \n",
       "3                     Luxury,Performance      Compact         Coupe   \n",
       "4                                 Luxury      Compact   Convertible   \n",
       "\n",
       "   highway MPG  city mpg  Popularity   MSRP  \n",
       "0           26        19        3916  46135  \n",
       "1           28        19        3916  40650  \n",
       "2           28        20        3916  36350  \n",
       "3           28        18        3916  29450  \n",
       "4           28        18        3916  34500  "
      ]
     },
     "execution_count": 2,
     "metadata": {},
     "output_type": "execute_result"
    }
   ],
   "source": [
    "carSales = pd.read_csv('C:/Users/103467/Python/Hackathon18-master/data.csv',sep=\",\")\n",
    "carSales.head()"
   ]
  },
  {
   "cell_type": "code",
   "execution_count": 3,
   "metadata": {},
   "outputs": [],
   "source": [
    "df_ordinary=carSales"
   ]
  },
  {
   "cell_type": "code",
   "execution_count": 6,
   "metadata": {},
   "outputs": [],
   "source": [
    "df_ordinary[\"Number of Doors\"] = df_ordinary[\"Number of Doors\"].replace(\"?\",0)\n",
    "df_ordinary[\"Number of Doors\"] = df_ordinary[\"Number of Doors\"].astype('float32')\n",
    "df_ordinary[\"MSRP\"] = df_ordinary[\"MSRP\"].replace(\"?\",0)\n",
    "df_ordinary[\"MSRP\"] = df_ordinary[\"MSRP\"].astype(\"float32\")\n",
    "df_ordinary[\"log_Engine HP\"] = np.log(df_ordinary[\"Engine HP\"]).astype(\"float32\")"
   ]
  },
  {
   "cell_type": "code",
   "execution_count": 8,
   "metadata": {},
   "outputs": [],
   "source": [
    "df_ordinary[\"Age\"] = 2020 - df_ordinary[\"Year\"].astype(int)\n",
    "df_ordinary[\"Age-cat\"] = np.ceil(df_ordinary[\"Age\"] / 5)"
   ]
  },
  {
   "cell_type": "code",
   "execution_count": 9,
   "metadata": {},
   "outputs": [],
   "source": [
    "make_list = ['Chevrolet', 'Chrysler', 'Ford' ,'Honda', 'Hyundai', 'Mazda', 'Nissan' ,'Pontiac' ,'Subaru', 'Suzuki']\n",
    "df_ordinary=df_ordinary[df_ordinary.Make.isin(make_list)]"
   ]
  },
  {
   "cell_type": "code",
   "execution_count": 10,
   "metadata": {},
   "outputs": [
    {
     "data": {
      "text/plain": [
       "1.0    2258\n",
       "3.0     746\n",
       "2.0     643\n",
       "4.0     467\n",
       "5.0     366\n",
       "6.0     237\n",
       "Name: Age-cat, dtype: int64"
      ]
     },
     "execution_count": 10,
     "metadata": {},
     "output_type": "execute_result"
    }
   ],
   "source": [
    "df_ordinary[\"Age-cat\"].value_counts()"
   ]
  },
  {
   "cell_type": "code",
   "execution_count": 11,
   "metadata": {},
   "outputs": [
    {
     "data": {
      "text/plain": [
       "1.0    0.478694\n",
       "3.0    0.158151\n",
       "2.0    0.136315\n",
       "4.0    0.099004\n",
       "5.0    0.077592\n",
       "6.0    0.050244\n",
       "Name: Age-cat, dtype: float64"
      ]
     },
     "execution_count": 11,
     "metadata": {},
     "output_type": "execute_result"
    }
   ],
   "source": [
    "df_ordinary[\"Age-cat\"].value_counts() / len(df_ordinary)"
   ]
  },
  {
   "cell_type": "code",
   "execution_count": 12,
   "metadata": {},
   "outputs": [
    {
     "name": "stderr",
     "output_type": "stream",
     "text": [
      "C:\\ProgramData\\Anaconda3\\lib\\site-packages\\ipykernel_launcher.py:1: SettingWithCopyWarning: \n",
      "A value is trying to be set on a copy of a slice from a DataFrame.\n",
      "Try using .loc[row_indexer,col_indexer] = value instead\n",
      "\n",
      "See the caveats in the documentation: https://pandas.pydata.org/pandas-docs/stable/user_guide/indexing.html#returning-a-view-versus-a-copy\n",
      "  \"\"\"Entry point for launching an IPython kernel.\n"
     ]
    }
   ],
   "source": [
    "df_ordinary[\"Age-cat\"] = df_ordinary[\"Age-cat\"].astype(int)"
   ]
  },
  {
   "cell_type": "code",
   "execution_count": 14,
   "metadata": {},
   "outputs": [
    {
     "name": "stderr",
     "output_type": "stream",
     "text": [
      "C:\\ProgramData\\Anaconda3\\lib\\site-packages\\ipykernel_launcher.py:1: SettingWithCopyWarning: \n",
      "A value is trying to be set on a copy of a slice from a DataFrame.\n",
      "Try using .loc[row_indexer,col_indexer] = value instead\n",
      "\n",
      "See the caveats in the documentation: https://pandas.pydata.org/pandas-docs/stable/user_guide/indexing.html#returning-a-view-versus-a-copy\n",
      "  \"\"\"Entry point for launching an IPython kernel.\n"
     ]
    }
   ],
   "source": [
    "df_ordinary['log_mpg']=np.log(df_ordinary[\"city mpg\"]).astype(\"float32\")"
   ]
  },
  {
   "cell_type": "code",
   "execution_count": 16,
   "metadata": {},
   "outputs": [],
   "source": [
    "y = np.log(df_ordinary['MSRP']).astype(\"float32\")"
   ]
  },
  {
   "cell_type": "code",
   "execution_count": null,
   "metadata": {},
   "outputs": [],
   "source": [
    "X = []"
   ]
  },
  {
   "cell_type": "code",
   "execution_count": 17,
   "metadata": {},
   "outputs": [],
   "source": [
    "X_num = df_ordinary[[\"Age\",\"log_mpg\",\"log_Engine HP\"]]"
   ]
  },
  {
   "cell_type": "code",
   "execution_count": 18,
   "metadata": {},
   "outputs": [
    {
     "name": "stderr",
     "output_type": "stream",
     "text": [
      "C:\\ProgramData\\Anaconda3\\lib\\site-packages\\pandas\\core\\frame.py:4172: SettingWithCopyWarning: \n",
      "A value is trying to be set on a copy of a slice from a DataFrame\n",
      "\n",
      "See the caveats in the documentation: https://pandas.pydata.org/pandas-docs/stable/user_guide/indexing.html#returning-a-view-versus-a-copy\n",
      "  method=method,\n"
     ]
    }
   ],
   "source": [
    "X_num.replace('null',np.NaN,inplace=True)\n",
    "#X_num = pd.DataFrame(X_num)\n",
    "X_num = X_num.replace('?',0)\n",
    "X_num = X_num.replace('NaN',0)\n",
    "X_num = X_num.replace(np.NaN,0)"
   ]
  },
  {
   "cell_type": "code",
   "execution_count": 20,
   "metadata": {},
   "outputs": [
    {
     "name": "stdout",
     "output_type": "stream",
     "text": [
      "null check\n",
      "Series([], dtype: bool)\n",
      "finite value check\n",
      "log_mpg          True\n",
      "log_Engine HP    True\n",
      "dtype: bool\n"
     ]
    }
   ],
   "source": [
    "print(\"null check\")\n",
    "m=X_num.isnull().any()\n",
    "print(m[m])\n",
    "print(\"finite value check\")\n",
    "m=np.isfinite(X_num.select_dtypes(include=['float32'])).any()\n",
    "print(m[m])\n"
   ]
  },
  {
   "cell_type": "code",
   "execution_count": 43,
   "metadata": {},
   "outputs": [
    {
     "name": "stdout",
     "output_type": "stream",
     "text": [
      "(4717, 3)\n"
     ]
    }
   ],
   "source": []
  },
  {
   "cell_type": "code",
   "execution_count": 28,
   "metadata": {},
   "outputs": [
    {
     "name": "stderr",
     "output_type": "stream",
     "text": [
      "C:\\ProgramData\\Anaconda3\\lib\\site-packages\\ipykernel_launcher.py:1: SettingWithCopyWarning: \n",
      "A value is trying to be set on a copy of a slice from a DataFrame.\n",
      "Try using .loc[row_indexer,col_indexer] = value instead\n",
      "\n",
      "See the caveats in the documentation: https://pandas.pydata.org/pandas-docs/stable/user_guide/indexing.html#returning-a-view-versus-a-copy\n",
      "  \"\"\"Entry point for launching an IPython kernel.\n",
      "C:\\ProgramData\\Anaconda3\\lib\\site-packages\\ipykernel_launcher.py:2: SettingWithCopyWarning: \n",
      "A value is trying to be set on a copy of a slice from a DataFrame.\n",
      "Try using .loc[row_indexer,col_indexer] = value instead\n",
      "\n",
      "See the caveats in the documentation: https://pandas.pydata.org/pandas-docs/stable/user_guide/indexing.html#returning-a-view-versus-a-copy\n",
      "  \n",
      "C:\\ProgramData\\Anaconda3\\lib\\site-packages\\ipykernel_launcher.py:3: SettingWithCopyWarning: \n",
      "A value is trying to be set on a copy of a slice from a DataFrame.\n",
      "Try using .loc[row_indexer,col_indexer] = value instead\n",
      "\n",
      "See the caveats in the documentation: https://pandas.pydata.org/pandas-docs/stable/user_guide/indexing.html#returning-a-view-versus-a-copy\n",
      "  This is separate from the ipykernel package so we can avoid doing imports until\n"
     ]
    }
   ],
   "source": [
    "df_ordinary[\"Engine Cylinders\"] = df_ordinary[\"Engine Cylinders\"].replace(\"?\",0)\n",
    "df_ordinary[\"Engine Cylinders\"] = df_ordinary[\"Engine Cylinders\"].replace(\"NaN\",0)\n",
    "df_ordinary[\"Engine Cylinders\"] = df_ordinary[\"Engine Cylinders\"].replace(np.NaN,0)"
   ]
  },
  {
   "cell_type": "code",
   "execution_count": 30,
   "metadata": {},
   "outputs": [],
   "source": [
    "df_ordinary = df_ordinary.replace(\"?\",0)\n",
    "df_ordinary= df_ordinary.replace(\"NaN\",0)\n",
    "df_ordinary = df_ordinary.replace(np.NaN,0)"
   ]
  },
  {
   "cell_type": "code",
   "execution_count": 37,
   "metadata": {},
   "outputs": [],
   "source": [
    "df_ordinary[\"Engine Fuel Type\"]=df_ordinary[\"Engine Fuel Type\"].astype(str)\n",
    "df_ordinary[\"Transmission Type\"]=df_ordinary[\"Transmission Type\"].astype(str)\n",
    "df_ordinary[\"Driven_Wheels\"]=df_ordinary[\"Driven_Wheels\"].astype(str)\n",
    "df_ordinary[\"Vehicle Size\"]=df_ordinary[\"Vehicle Size\"].astype(str)\n",
    "df_ordinary[\"Make\"]=df_ordinary[\"Make\"].astype(str)\n",
    "df_ordinary[\"Vehicle Style\"]=df_ordinary[\"Vehicle Style\"].astype(str)"
   ]
  },
  {
   "cell_type": "code",
   "execution_count": 38,
   "metadata": {},
   "outputs": [
    {
     "name": "stdout",
     "output_type": "stream",
     "text": [
      "[0. 3. 4. 5. 6. 8.]\n",
      "['0' 'diesel' 'electric' 'flex-fuel (unleaded/E85)'\n",
      " 'flex-fuel (unleaded/natural gas)' 'natural gas'\n",
      " 'premium unleaded (recommended)' 'premium unleaded (required)'\n",
      " 'regular unleaded']\n",
      "['AUTOMATED_MANUAL' 'AUTOMATIC' 'DIRECT_DRIVE' 'MANUAL' 'UNKNOWN']\n",
      "['all wheel drive' 'four wheel drive' 'front wheel drive'\n",
      " 'rear wheel drive']\n",
      "['Compact' 'Large' 'Midsize']\n",
      "['Chevrolet' 'Chrysler' 'Ford' 'Honda' 'Hyundai' 'Mazda' 'Nissan'\n",
      " 'Pontiac' 'Subaru' 'Suzuki']\n",
      "['2dr Hatchback' '2dr SUV' '4dr Hatchback' '4dr SUV' 'Cargo Minivan'\n",
      " 'Cargo Van' 'Convertible' 'Convertible SUV' 'Coupe' 'Crew Cab Pickup'\n",
      " 'Extended Cab Pickup' 'Passenger Minivan' 'Passenger Van'\n",
      " 'Regular Cab Pickup' 'Sedan' 'Wagon']\n"
     ]
    }
   ],
   "source": [
    "car_eng_cyl = df_ordinary[\"Engine Cylinders\"]\n",
    "encoder_cyl = LabelBinarizer()\n",
    "encoder_cyl.fit(car_eng_cyl)\n",
    "print(encoder_cyl.classes_)\n",
    "\n",
    "car_eng_fuel_type = df_ordinary[\"Engine Fuel Type\"]\n",
    "encoder_fuel = LabelBinarizer()\n",
    "encoder_fuel.fit(car_eng_fuel_type)\n",
    "print(encoder_fuel.classes_)\n",
    "\n",
    "car_trans_type = df_ordinary[\"Transmission Type\"]\n",
    "encoder_trans = LabelBinarizer()\n",
    "encoder_trans.fit(car_trans_type)\n",
    "print(encoder_trans.classes_)\n",
    "\n",
    "car_driven_wheels = df_ordinary[\"Driven_Wheels\"]\n",
    "encoder_wheels = LabelBinarizer()\n",
    "encoder_wheels.fit(car_driven_wheels)\n",
    "print(encoder_wheels.classes_)\n",
    "\n",
    "car_vehicle_size = df_ordinary[\"Vehicle Size\"]\n",
    "encoder_size = LabelBinarizer()\n",
    "encoder_size.fit(car_vehicle_size)\n",
    "print(encoder_size.classes_)\n",
    "\n",
    "car_make =df_ordinary[\"Make\"]\n",
    "encoder_make = LabelBinarizer()\n",
    "encoder_make.fit(car_make)\n",
    "print(encoder_make.classes_)\n",
    "\n",
    "\n",
    "car_style =df_ordinary[\"Vehicle Style\"]\n",
    "encoder_style = LabelBinarizer()\n",
    "encoder_style.fit(car_style)\n",
    "print(encoder_style.classes_)"
   ]
  },
  {
   "cell_type": "code",
   "execution_count": 49,
   "metadata": {},
   "outputs": [
    {
     "name": "stdout",
     "output_type": "stream",
     "text": [
      "(4717, 3)\n",
      "(4717, 6)\n",
      "(4717, 9)\n",
      "(4717, 9)\n",
      "(4717, 18)\n",
      "(4717, 5)\n",
      "(4717, 4)\n",
      "(4717, 3)\n",
      "(4717, 16)\n",
      "(4717, 10)\n",
      "(4717, 56)\n"
     ]
    }
   ],
   "source": [
    "scaler = MinMaxScaler()\n",
    "X = scaler.fit_transform(X_num)\n",
    "\n",
    "print(X.shape)\n",
    "\n",
    "car_eng_cyl = df_ordinary[\"Engine Cylinders\"]\n",
    "car_eng_1hot = encoder_cyl.transform(car_eng_cyl)\n",
    "print(car_eng_1hot.shape)\n",
    "\n",
    "X = np.concatenate((X,car_eng_1hot),axis=1)\n",
    "print(X.shape)\n",
    "\n",
    "car_eng_fuel_type = df_ordinary[\"Engine Fuel Type\"]\n",
    "car_fuel_1hot = encoder_fuel.transform(car_eng_fuel_type)\n",
    "print(car_fuel_1hot.shape)\n",
    "\n",
    "X = np.concatenate((X,car_fuel_1hot),axis=1)\n",
    "print(X.shape)\n",
    "\n",
    "car_trans_type = df_ordinary[\"Transmission Type\"]\n",
    "car_trans_1hot = encoder_trans.transform(car_trans_type)\n",
    "print(car_trans_1hot.shape)\n",
    "\n",
    "X = np.concatenate((X,car_trans_1hot),axis=1)\n",
    "\n",
    "car_driven_wheels = df_ordinary[\"Driven_Wheels\"]\n",
    "car_drive_1hot = encoder_wheels.transform(car_driven_wheels)\n",
    "print(car_drive_1hot.shape)\n",
    "\n",
    "X = np.concatenate((X,car_drive_1hot),axis=1)\n",
    "\n",
    "car_vehicle_size = df_ordinary[\"Vehicle Size\"]\n",
    "car_size_1hot = encoder_size.transform(car_vehicle_size)\n",
    "print(car_size_1hot.shape)\n",
    "\n",
    "X = np.concatenate((X,car_size_1hot),axis=1)\n",
    "\n",
    "car_vehicle_style = df_ordinary[\"Vehicle Style\"]\n",
    "car_style_1hot = encoder_style.transform(car_vehicle_style)\n",
    "print(car_style_1hot.shape)\n",
    "\n",
    "X = np.concatenate((X,car_style_1hot),axis=1)\n",
    "\n",
    "car_make = df_ordinary[\"Make\"]\n",
    "car_make_1hot = encoder_make.transform(car_make)\n",
    "print(car_make_1hot.shape)\n",
    "\n",
    "X = np.concatenate((X,car_make_1hot),axis=1)\n",
    "\n",
    "print(X.shape)"
   ]
  },
  {
   "cell_type": "code",
   "execution_count": 50,
   "metadata": {},
   "outputs": [
    {
     "data": {
      "text/html": [
       "<div>\n",
       "<style scoped>\n",
       "    .dataframe tbody tr th:only-of-type {\n",
       "        vertical-align: middle;\n",
       "    }\n",
       "\n",
       "    .dataframe tbody tr th {\n",
       "        vertical-align: top;\n",
       "    }\n",
       "\n",
       "    .dataframe thead th {\n",
       "        text-align: right;\n",
       "    }\n",
       "</style>\n",
       "<table border=\"1\" class=\"dataframe\">\n",
       "  <thead>\n",
       "    <tr style=\"text-align: right;\">\n",
       "      <th></th>\n",
       "      <th>0</th>\n",
       "      <th>1</th>\n",
       "      <th>2</th>\n",
       "      <th>3</th>\n",
       "      <th>4</th>\n",
       "      <th>5</th>\n",
       "      <th>6</th>\n",
       "      <th>7</th>\n",
       "      <th>8</th>\n",
       "      <th>9</th>\n",
       "      <th>...</th>\n",
       "      <th>46</th>\n",
       "      <th>47</th>\n",
       "      <th>48</th>\n",
       "      <th>49</th>\n",
       "      <th>50</th>\n",
       "      <th>51</th>\n",
       "      <th>52</th>\n",
       "      <th>53</th>\n",
       "      <th>54</th>\n",
       "      <th>55</th>\n",
       "    </tr>\n",
       "  </thead>\n",
       "  <tbody>\n",
       "    <tr>\n",
       "      <th>0</th>\n",
       "      <td>0.074074</td>\n",
       "      <td>0.296832</td>\n",
       "      <td>0.802883</td>\n",
       "      <td>0.0</td>\n",
       "      <td>0.0</td>\n",
       "      <td>1.0</td>\n",
       "      <td>0.0</td>\n",
       "      <td>0.0</td>\n",
       "      <td>0.0</td>\n",
       "      <td>0.0</td>\n",
       "      <td>...</td>\n",
       "      <td>0.0</td>\n",
       "      <td>1.0</td>\n",
       "      <td>0.0</td>\n",
       "      <td>0.0</td>\n",
       "      <td>0.0</td>\n",
       "      <td>0.0</td>\n",
       "      <td>0.0</td>\n",
       "      <td>0.0</td>\n",
       "      <td>0.0</td>\n",
       "      <td>0.0</td>\n",
       "    </tr>\n",
       "    <tr>\n",
       "      <th>1</th>\n",
       "      <td>0.074074</td>\n",
       "      <td>0.296832</td>\n",
       "      <td>0.802883</td>\n",
       "      <td>0.0</td>\n",
       "      <td>0.0</td>\n",
       "      <td>1.0</td>\n",
       "      <td>0.0</td>\n",
       "      <td>0.0</td>\n",
       "      <td>0.0</td>\n",
       "      <td>0.0</td>\n",
       "      <td>...</td>\n",
       "      <td>0.0</td>\n",
       "      <td>1.0</td>\n",
       "      <td>0.0</td>\n",
       "      <td>0.0</td>\n",
       "      <td>0.0</td>\n",
       "      <td>0.0</td>\n",
       "      <td>0.0</td>\n",
       "      <td>0.0</td>\n",
       "      <td>0.0</td>\n",
       "      <td>0.0</td>\n",
       "    </tr>\n",
       "    <tr>\n",
       "      <th>2</th>\n",
       "      <td>0.074074</td>\n",
       "      <td>0.198187</td>\n",
       "      <td>0.875557</td>\n",
       "      <td>0.0</td>\n",
       "      <td>0.0</td>\n",
       "      <td>0.0</td>\n",
       "      <td>0.0</td>\n",
       "      <td>1.0</td>\n",
       "      <td>0.0</td>\n",
       "      <td>0.0</td>\n",
       "      <td>...</td>\n",
       "      <td>0.0</td>\n",
       "      <td>1.0</td>\n",
       "      <td>0.0</td>\n",
       "      <td>0.0</td>\n",
       "      <td>0.0</td>\n",
       "      <td>0.0</td>\n",
       "      <td>0.0</td>\n",
       "      <td>0.0</td>\n",
       "      <td>0.0</td>\n",
       "      <td>0.0</td>\n",
       "    </tr>\n",
       "    <tr>\n",
       "      <th>3</th>\n",
       "      <td>0.074074</td>\n",
       "      <td>0.296832</td>\n",
       "      <td>0.802883</td>\n",
       "      <td>0.0</td>\n",
       "      <td>0.0</td>\n",
       "      <td>1.0</td>\n",
       "      <td>0.0</td>\n",
       "      <td>0.0</td>\n",
       "      <td>0.0</td>\n",
       "      <td>0.0</td>\n",
       "      <td>...</td>\n",
       "      <td>0.0</td>\n",
       "      <td>1.0</td>\n",
       "      <td>0.0</td>\n",
       "      <td>0.0</td>\n",
       "      <td>0.0</td>\n",
       "      <td>0.0</td>\n",
       "      <td>0.0</td>\n",
       "      <td>0.0</td>\n",
       "      <td>0.0</td>\n",
       "      <td>0.0</td>\n",
       "    </tr>\n",
       "    <tr>\n",
       "      <th>4</th>\n",
       "      <td>0.074074</td>\n",
       "      <td>0.296832</td>\n",
       "      <td>0.802883</td>\n",
       "      <td>0.0</td>\n",
       "      <td>0.0</td>\n",
       "      <td>1.0</td>\n",
       "      <td>0.0</td>\n",
       "      <td>0.0</td>\n",
       "      <td>0.0</td>\n",
       "      <td>0.0</td>\n",
       "      <td>...</td>\n",
       "      <td>0.0</td>\n",
       "      <td>1.0</td>\n",
       "      <td>0.0</td>\n",
       "      <td>0.0</td>\n",
       "      <td>0.0</td>\n",
       "      <td>0.0</td>\n",
       "      <td>0.0</td>\n",
       "      <td>0.0</td>\n",
       "      <td>0.0</td>\n",
       "      <td>0.0</td>\n",
       "    </tr>\n",
       "  </tbody>\n",
       "</table>\n",
       "<p>5 rows × 56 columns</p>\n",
       "</div>"
      ],
      "text/plain": [
       "         0         1         2    3    4    5    6    7    8    9   ...   46  \\\n",
       "0  0.074074  0.296832  0.802883  0.0  0.0  1.0  0.0  0.0  0.0  0.0  ...  0.0   \n",
       "1  0.074074  0.296832  0.802883  0.0  0.0  1.0  0.0  0.0  0.0  0.0  ...  0.0   \n",
       "2  0.074074  0.198187  0.875557  0.0  0.0  0.0  0.0  1.0  0.0  0.0  ...  0.0   \n",
       "3  0.074074  0.296832  0.802883  0.0  0.0  1.0  0.0  0.0  0.0  0.0  ...  0.0   \n",
       "4  0.074074  0.296832  0.802883  0.0  0.0  1.0  0.0  0.0  0.0  0.0  ...  0.0   \n",
       "\n",
       "    47   48   49   50   51   52   53   54   55  \n",
       "0  1.0  0.0  0.0  0.0  0.0  0.0  0.0  0.0  0.0  \n",
       "1  1.0  0.0  0.0  0.0  0.0  0.0  0.0  0.0  0.0  \n",
       "2  1.0  0.0  0.0  0.0  0.0  0.0  0.0  0.0  0.0  \n",
       "3  1.0  0.0  0.0  0.0  0.0  0.0  0.0  0.0  0.0  \n",
       "4  1.0  0.0  0.0  0.0  0.0  0.0  0.0  0.0  0.0  \n",
       "\n",
       "[5 rows x 56 columns]"
      ]
     },
     "execution_count": 50,
     "metadata": {},
     "output_type": "execute_result"
    }
   ],
   "source": [
    "X = pd.DataFrame(X)\n",
    "X.head()"
   ]
  },
  {
   "cell_type": "code",
   "execution_count": 58,
   "metadata": {},
   "outputs": [],
   "source": [
    "df_ordinary=df_ordinary.reset_index()"
   ]
  },
  {
   "cell_type": "code",
   "execution_count": 75,
   "metadata": {},
   "outputs": [
    {
     "data": {
      "text/plain": [
       "(4717, 57)"
      ]
     },
     "execution_count": 75,
     "metadata": {},
     "output_type": "execute_result"
    }
   ],
   "source": [
    "X_full = pd.concat([X,df_ordinary[\"Age-cat\"]],axis=1)\n",
    "X_full.shape"
   ]
  },
  {
   "cell_type": "code",
   "execution_count": 72,
   "metadata": {},
   "outputs": [],
   "source": [
    "y = pd.DataFrame(y)\n"
   ]
  },
  {
   "cell_type": "code",
   "execution_count": 74,
   "metadata": {},
   "outputs": [],
   "source": [
    "y = y.reset_index()"
   ]
  },
  {
   "cell_type": "code",
   "execution_count": 76,
   "metadata": {},
   "outputs": [
    {
     "data": {
      "text/plain": [
       "(4717, 59)"
      ]
     },
     "execution_count": 76,
     "metadata": {},
     "output_type": "execute_result"
    }
   ],
   "source": [
    "X_full = pd.concat([X_full,y],axis=1)\n",
    "X_full.shape"
   ]
  },
  {
   "cell_type": "code",
   "execution_count": 80,
   "metadata": {},
   "outputs": [],
   "source": [
    "X_full=X_full.drop([\"index\"],axis=1)"
   ]
  },
  {
   "cell_type": "code",
   "execution_count": 81,
   "metadata": {},
   "outputs": [
    {
     "data": {
      "text/plain": [
       "Index([        0,         1,         2,         3,         4,         5,\n",
       "               6,         7,         8,         9,        10,        11,\n",
       "              12,        13,        14,        15,        16,        17,\n",
       "              18,        19,        20,        21,        22,        23,\n",
       "              24,        25,        26,        27,        28,        29,\n",
       "              30,        31,        32,        33,        34,        35,\n",
       "              36,        37,        38,        39,        40,        41,\n",
       "              42,        43,        44,        45,        46,        47,\n",
       "              48,        49,        50,        51,        52,        53,\n",
       "              54,        55, 'Age-cat',    'MSRP'],\n",
       "      dtype='object')"
      ]
     },
     "execution_count": 81,
     "metadata": {},
     "output_type": "execute_result"
    }
   ],
   "source": [
    "X_full.columns"
   ]
  },
  {
   "cell_type": "code",
   "execution_count": 82,
   "metadata": {},
   "outputs": [],
   "source": [
    "X_full.to_csv(\"C:/Users/103467/python/CarData_norm.csv\",index=False)"
   ]
  },
  {
   "cell_type": "code",
   "execution_count": 61,
   "metadata": {},
   "outputs": [],
   "source": [
    "X_train, X_test, y_train, y_test = train_test_split(X_full, y, stratify=X_full[\"Age-cat\"], test_size=0.2, random_state=42)"
   ]
  },
  {
   "cell_type": "code",
   "execution_count": 66,
   "metadata": {},
   "outputs": [
    {
     "data": {
      "text/plain": [
       "1    0.478814\n",
       "3    0.157839\n",
       "2    0.136653\n",
       "4    0.099576\n",
       "5    0.077331\n",
       "6    0.049788\n",
       "Name: Age-cat, dtype: float64"
      ]
     },
     "execution_count": 66,
     "metadata": {},
     "output_type": "execute_result"
    }
   ],
   "source": [
    "X_test[\"Age-cat\"].value_counts(normalize=True)"
   ]
  },
  {
   "cell_type": "code",
   "execution_count": null,
   "metadata": {},
   "outputs": [],
   "source": []
  }
 ],
 "metadata": {
  "kernelspec": {
   "display_name": "Python 3",
   "language": "python",
   "name": "python3"
  },
  "language_info": {
   "codemirror_mode": {
    "name": "ipython",
    "version": 3
   },
   "file_extension": ".py",
   "mimetype": "text/x-python",
   "name": "python",
   "nbconvert_exporter": "python",
   "pygments_lexer": "ipython3",
   "version": "3.7.6"
  }
 },
 "nbformat": 4,
 "nbformat_minor": 4
}
