{
 "cells": [
  {
   "cell_type": "code",
   "execution_count": 1,
   "metadata": {},
   "outputs": [],
   "source": [
    "import pandas as pd\n",
    "import numpy as np\n",
    "\n",
    "# Make numpy values easier to read.\n",
    "np.set_printoptions(precision=3, suppress=True)\n",
    "\n",
    "import tensorflow as tf\n",
    "from tensorflow.keras import layers\n",
    "from tensorflow.keras.layers.experimental import preprocessing"
   ]
  },
  {
   "cell_type": "code",
   "execution_count": 2,
   "metadata": {},
   "outputs": [],
   "source": [
    "from sklearn.model_selection import train_test_split"
   ]
  },
  {
   "cell_type": "code",
   "execution_count": 3,
   "metadata": {},
   "outputs": [],
   "source": [
    "df=pd.read_csv(\"C:/Users/103467/python/CarData_norm.csv\")"
   ]
  },
  {
   "cell_type": "code",
   "execution_count": 4,
   "metadata": {},
   "outputs": [
    {
     "data": {
      "text/html": [
       "<div>\n",
       "<style scoped>\n",
       "    .dataframe tbody tr th:only-of-type {\n",
       "        vertical-align: middle;\n",
       "    }\n",
       "\n",
       "    .dataframe tbody tr th {\n",
       "        vertical-align: top;\n",
       "    }\n",
       "\n",
       "    .dataframe thead th {\n",
       "        text-align: right;\n",
       "    }\n",
       "</style>\n",
       "<table border=\"1\" class=\"dataframe\">\n",
       "  <thead>\n",
       "    <tr style=\"text-align: right;\">\n",
       "      <th></th>\n",
       "      <th>0</th>\n",
       "      <th>1</th>\n",
       "      <th>2</th>\n",
       "      <th>3</th>\n",
       "      <th>4</th>\n",
       "      <th>5</th>\n",
       "      <th>6</th>\n",
       "      <th>7</th>\n",
       "      <th>8</th>\n",
       "      <th>9</th>\n",
       "      <th>...</th>\n",
       "      <th>48</th>\n",
       "      <th>49</th>\n",
       "      <th>50</th>\n",
       "      <th>51</th>\n",
       "      <th>52</th>\n",
       "      <th>53</th>\n",
       "      <th>54</th>\n",
       "      <th>55</th>\n",
       "      <th>Age-cat</th>\n",
       "      <th>MSRP</th>\n",
       "    </tr>\n",
       "  </thead>\n",
       "  <tbody>\n",
       "    <tr>\n",
       "      <th>0</th>\n",
       "      <td>0.074074</td>\n",
       "      <td>0.296832</td>\n",
       "      <td>0.802883</td>\n",
       "      <td>0.0</td>\n",
       "      <td>0.0</td>\n",
       "      <td>1.0</td>\n",
       "      <td>0.0</td>\n",
       "      <td>0.0</td>\n",
       "      <td>0.0</td>\n",
       "      <td>0.0</td>\n",
       "      <td>...</td>\n",
       "      <td>0.0</td>\n",
       "      <td>0.0</td>\n",
       "      <td>0.0</td>\n",
       "      <td>0.0</td>\n",
       "      <td>0.0</td>\n",
       "      <td>0.0</td>\n",
       "      <td>0.0</td>\n",
       "      <td>0.0</td>\n",
       "      <td>1</td>\n",
       "      <td>10.133409</td>\n",
       "    </tr>\n",
       "    <tr>\n",
       "      <th>1</th>\n",
       "      <td>0.074074</td>\n",
       "      <td>0.296832</td>\n",
       "      <td>0.802883</td>\n",
       "      <td>0.0</td>\n",
       "      <td>0.0</td>\n",
       "      <td>1.0</td>\n",
       "      <td>0.0</td>\n",
       "      <td>0.0</td>\n",
       "      <td>0.0</td>\n",
       "      <td>0.0</td>\n",
       "      <td>...</td>\n",
       "      <td>0.0</td>\n",
       "      <td>0.0</td>\n",
       "      <td>0.0</td>\n",
       "      <td>0.0</td>\n",
       "      <td>0.0</td>\n",
       "      <td>0.0</td>\n",
       "      <td>0.0</td>\n",
       "      <td>0.0</td>\n",
       "      <td>1</td>\n",
       "      <td>10.083724</td>\n",
       "    </tr>\n",
       "    <tr>\n",
       "      <th>2</th>\n",
       "      <td>0.074074</td>\n",
       "      <td>0.198187</td>\n",
       "      <td>0.875557</td>\n",
       "      <td>0.0</td>\n",
       "      <td>0.0</td>\n",
       "      <td>0.0</td>\n",
       "      <td>0.0</td>\n",
       "      <td>1.0</td>\n",
       "      <td>0.0</td>\n",
       "      <td>0.0</td>\n",
       "      <td>...</td>\n",
       "      <td>0.0</td>\n",
       "      <td>0.0</td>\n",
       "      <td>0.0</td>\n",
       "      <td>0.0</td>\n",
       "      <td>0.0</td>\n",
       "      <td>0.0</td>\n",
       "      <td>0.0</td>\n",
       "      <td>0.0</td>\n",
       "      <td>1</td>\n",
       "      <td>10.287729</td>\n",
       "    </tr>\n",
       "    <tr>\n",
       "      <th>3</th>\n",
       "      <td>0.074074</td>\n",
       "      <td>0.296832</td>\n",
       "      <td>0.802883</td>\n",
       "      <td>0.0</td>\n",
       "      <td>0.0</td>\n",
       "      <td>1.0</td>\n",
       "      <td>0.0</td>\n",
       "      <td>0.0</td>\n",
       "      <td>0.0</td>\n",
       "      <td>0.0</td>\n",
       "      <td>...</td>\n",
       "      <td>0.0</td>\n",
       "      <td>0.0</td>\n",
       "      <td>0.0</td>\n",
       "      <td>0.0</td>\n",
       "      <td>0.0</td>\n",
       "      <td>0.0</td>\n",
       "      <td>0.0</td>\n",
       "      <td>0.0</td>\n",
       "      <td>1</td>\n",
       "      <td>9.998570</td>\n",
       "    </tr>\n",
       "    <tr>\n",
       "      <th>4</th>\n",
       "      <td>0.074074</td>\n",
       "      <td>0.296832</td>\n",
       "      <td>0.802883</td>\n",
       "      <td>0.0</td>\n",
       "      <td>0.0</td>\n",
       "      <td>1.0</td>\n",
       "      <td>0.0</td>\n",
       "      <td>0.0</td>\n",
       "      <td>0.0</td>\n",
       "      <td>0.0</td>\n",
       "      <td>...</td>\n",
       "      <td>0.0</td>\n",
       "      <td>0.0</td>\n",
       "      <td>0.0</td>\n",
       "      <td>0.0</td>\n",
       "      <td>0.0</td>\n",
       "      <td>0.0</td>\n",
       "      <td>0.0</td>\n",
       "      <td>0.0</td>\n",
       "      <td>1</td>\n",
       "      <td>10.189606</td>\n",
       "    </tr>\n",
       "  </tbody>\n",
       "</table>\n",
       "<p>5 rows × 58 columns</p>\n",
       "</div>"
      ],
      "text/plain": [
       "          0         1         2    3    4    5    6    7    8    9  ...   48  \\\n",
       "0  0.074074  0.296832  0.802883  0.0  0.0  1.0  0.0  0.0  0.0  0.0  ...  0.0   \n",
       "1  0.074074  0.296832  0.802883  0.0  0.0  1.0  0.0  0.0  0.0  0.0  ...  0.0   \n",
       "2  0.074074  0.198187  0.875557  0.0  0.0  0.0  0.0  1.0  0.0  0.0  ...  0.0   \n",
       "3  0.074074  0.296832  0.802883  0.0  0.0  1.0  0.0  0.0  0.0  0.0  ...  0.0   \n",
       "4  0.074074  0.296832  0.802883  0.0  0.0  1.0  0.0  0.0  0.0  0.0  ...  0.0   \n",
       "\n",
       "    49   50   51   52   53   54   55  Age-cat       MSRP  \n",
       "0  0.0  0.0  0.0  0.0  0.0  0.0  0.0        1  10.133409  \n",
       "1  0.0  0.0  0.0  0.0  0.0  0.0  0.0        1  10.083724  \n",
       "2  0.0  0.0  0.0  0.0  0.0  0.0  0.0        1  10.287729  \n",
       "3  0.0  0.0  0.0  0.0  0.0  0.0  0.0        1   9.998570  \n",
       "4  0.0  0.0  0.0  0.0  0.0  0.0  0.0        1  10.189606  \n",
       "\n",
       "[5 rows x 58 columns]"
      ]
     },
     "execution_count": 4,
     "metadata": {},
     "output_type": "execute_result"
    }
   ],
   "source": [
    "df.head()"
   ]
  },
  {
   "cell_type": "code",
   "execution_count": 5,
   "metadata": {},
   "outputs": [],
   "source": [
    "y = df[\"MSRP\"]\n",
    "X = df.drop([\"MSRP\"],axis=1)"
   ]
  },
  {
   "cell_type": "code",
   "execution_count": 6,
   "metadata": {},
   "outputs": [],
   "source": [
    "X_train, X_test, y_train, y_test = train_test_split(X, y, stratify=X[\"Age-cat\"], test_size=0.2, random_state=42)"
   ]
  },
  {
   "cell_type": "code",
   "execution_count": 7,
   "metadata": {},
   "outputs": [
    {
     "data": {
      "text/plain": [
       "1    0.478814\n",
       "3    0.157839\n",
       "2    0.136653\n",
       "4    0.099576\n",
       "5    0.077331\n",
       "6    0.049788\n",
       "Name: Age-cat, dtype: float64"
      ]
     },
     "execution_count": 7,
     "metadata": {},
     "output_type": "execute_result"
    }
   ],
   "source": [
    "X_test[\"Age-cat\"].value_counts(normalize=True)"
   ]
  },
  {
   "cell_type": "code",
   "execution_count": 8,
   "metadata": {},
   "outputs": [],
   "source": [
    "X_train = X_train.drop([\"Age-cat\"],axis=1)\n",
    "X_test = X_test.drop([\"Age-cat\"],axis=1)"
   ]
  },
  {
   "cell_type": "code",
   "execution_count": 9,
   "metadata": {},
   "outputs": [
    {
     "name": "stdout",
     "output_type": "stream",
     "text": [
      "Features: [0.037 0.241 0.856 0.    0.    0.    0.    1.    0.    0.    0.    0.\n",
      " 0.    0.    0.    0.    0.    1.    0.    1.    0.    0.    0.    0.\n",
      " 0.    1.    0.    1.    0.    0.    0.    0.    0.    0.    0.    0.\n",
      " 0.    0.    0.    0.    0.    1.    0.    0.    0.    0.    0.    0.\n",
      " 0.    0.    0.    0.    1.    0.    0.    0.   ], Target: 10.187914\n"
     ]
    }
   ],
   "source": [
    "train_dataset = tf.data.Dataset.from_tensor_slices((X_train.values, y_train.values))\n",
    "for feat, targ in train_dataset.take(1):\n",
    "    print ('Features: {}, Target: {}'.format(feat, targ))"
   ]
  },
  {
   "cell_type": "code",
   "execution_count": 10,
   "metadata": {},
   "outputs": [
    {
     "name": "stdout",
     "output_type": "stream",
     "text": [
      "Features: [0.296 0.175 0.844 0.    0.    0.    0.    1.    0.    0.    0.    0.\n",
      " 0.    0.    0.    0.    0.    1.    0.    1.    0.    0.    0.    1.\n",
      " 0.    0.    0.    1.    0.    0.    0.    0.    0.    1.    0.    0.\n",
      " 0.    0.    0.    0.    0.    0.    0.    0.    0.    0.    0.    0.\n",
      " 0.    0.    0.    1.    0.    0.    0.    0.   ], Target: 10.1188\n"
     ]
    }
   ],
   "source": [
    "test_dataset = tf.data.Dataset.from_tensor_slices((X_test.values, y_test.values))\n",
    "for feat, targ in test_dataset.take(1):\n",
    "    print ('Features: {}, Target: {}'.format(feat, targ))"
   ]
  },
  {
   "cell_type": "code",
   "execution_count": 11,
   "metadata": {},
   "outputs": [
    {
     "data": {
      "text/plain": [
       "(3773, 56)"
      ]
     },
     "execution_count": 11,
     "metadata": {},
     "output_type": "execute_result"
    }
   ],
   "source": [
    "X_train.shape"
   ]
  },
  {
   "cell_type": "code",
   "execution_count": 12,
   "metadata": {},
   "outputs": [],
   "source": [
    "train_dataset = train_dataset.shuffle(buffer_size=len(X_train)).batch(1)\n",
    "test_dataset = test_dataset.shuffle(buffer_size=len(X_test)).batch(1)"
   ]
  },
  {
   "cell_type": "code",
   "execution_count": 46,
   "metadata": {},
   "outputs": [],
   "source": [
    "def get_compiled_model():\n",
    "        model = tf.keras.Sequential([\n",
    "    tf.keras.Input((X_train.shape[1])),\n",
    "    tf.keras.layers.Dense(50, activation=\"relu\"),\n",
    "    tf.keras.layers.Dense(25, activation='relu'),\n",
    "    tf.keras.layers.Dense(10, activation='relu'),\n",
    "    tf.keras.layers.Dense(1)\n",
    "      ])\n",
    "\n",
    "        model.compile(optimizer='adam',\n",
    "                loss='mean_squared_error',\n",
    "                metrics=['mse'])\n",
    "        return model"
   ]
  },
  {
   "cell_type": "code",
   "execution_count": 50,
   "metadata": {},
   "outputs": [],
   "source": [
    "model = get_compiled_model()"
   ]
  },
  {
   "cell_type": "code",
   "execution_count": 51,
   "metadata": {},
   "outputs": [
    {
     "name": "stdout",
     "output_type": "stream",
     "text": [
      "Epoch 1/15\n",
      "3773/3773 [==============================] - 7s 2ms/step - loss: 1.8991 - mse: 1.8991 - val_loss: 0.2385 - val_mse: 0.2385\n",
      "Epoch 2/15\n",
      "3773/3773 [==============================] - 7s 2ms/step - loss: 0.1781 - mse: 0.1781 - val_loss: 0.1067 - val_mse: 0.1067\n",
      "Epoch 3/15\n",
      "3773/3773 [==============================] - 7s 2ms/step - loss: 0.1280 - mse: 0.1280 - val_loss: 0.0882 - val_mse: 0.0882\n",
      "Epoch 4/15\n",
      "3773/3773 [==============================] - 7s 2ms/step - loss: 0.1209 - mse: 0.1209 - val_loss: 0.0696 - val_mse: 0.0696\n",
      "Epoch 5/15\n",
      "3773/3773 [==============================] - 7s 2ms/step - loss: 0.1027 - mse: 0.1027 - val_loss: 0.0621 - val_mse: 0.0621\n",
      "Epoch 6/15\n",
      "3773/3773 [==============================] - 7s 2ms/step - loss: 0.0934 - mse: 0.0934 - val_loss: 0.0964 - val_mse: 0.0964\n",
      "Epoch 7/15\n",
      "3773/3773 [==============================] - 7s 2ms/step - loss: 0.0781 - mse: 0.0781 - val_loss: 0.0599 - val_mse: 0.0599\n",
      "Epoch 8/15\n",
      "3773/3773 [==============================] - 7s 2ms/step - loss: 0.0792 - mse: 0.0792 - val_loss: 0.0866 - val_mse: 0.0866\n",
      "Epoch 9/15\n",
      "3773/3773 [==============================] - 7s 2ms/step - loss: 0.0763 - mse: 0.0763 - val_loss: 0.0744 - val_mse: 0.0744\n",
      "Epoch 10/15\n",
      "3773/3773 [==============================] - 7s 2ms/step - loss: 0.0671 - mse: 0.0671 - val_loss: 0.1401 - val_mse: 0.1401\n",
      "Epoch 11/15\n",
      "3773/3773 [==============================] - 7s 2ms/step - loss: 0.0665 - mse: 0.0665 - val_loss: 0.0672 - val_mse: 0.0672\n",
      "Epoch 12/15\n",
      "3773/3773 [==============================] - 7s 2ms/step - loss: 0.0614 - mse: 0.0614 - val_loss: 0.0825 - val_mse: 0.0825\n",
      "Epoch 13/15\n",
      "3773/3773 [==============================] - 7s 2ms/step - loss: 0.0592 - mse: 0.0592 - val_loss: 0.0600 - val_mse: 0.0600\n",
      "Epoch 14/15\n",
      "3773/3773 [==============================] - 7s 2ms/step - loss: 0.0616 - mse: 0.0616 - val_loss: 0.0499 - val_mse: 0.0499\n",
      "Epoch 15/15\n",
      "3773/3773 [==============================] - 7s 2ms/step - loss: 0.0528 - mse: 0.0528 - val_loss: 0.0509 - val_mse: 0.0509\n"
     ]
    }
   ],
   "source": [
    "history = model.fit(train_dataset, validation_data=test_dataset,epochs=15)"
   ]
  },
  {
   "cell_type": "code",
   "execution_count": 53,
   "metadata": {},
   "outputs": [
    {
     "data": {
      "image/png": "[encoded data removed]",
      "text/plain": [
       "<Figure size 432x288 with 1 Axes>"
      ]
     },
     "metadata": {
      "needs_background": "light"
     },
     "output_type": "display_data"
    }
   ],
   "source": [
    "import matplotlib.pyplot as plt\n",
    "plt.plot(history.history['loss'], color = 'blue')\n",
    "plt.plot(history.history['val_loss'], color=  'red')\n",
    "plt.title('model loss')\n",
    "plt.ylabel('loss')\n",
    "plt.xlabel('epoch')\n",
    "plt.legend(['train', 'test'], loc='upper left')\n",
    "plt.show()"
   ]
  },
  {
   "cell_type": "code",
   "execution_count": 56,
   "metadata": {},
   "outputs": [
    {
     "name": "stdout",
     "output_type": "stream",
     "text": [
      "944/944 [==============================] - 1s 1ms/step - loss: 0.0509 - mse: 0.0509\n"
     ]
    }
   ],
   "source": [
    "results = model.evaluate(test_dataset)"
   ]
  },
  {
   "cell_type": "code",
   "execution_count": 57,
   "metadata": {},
   "outputs": [
    {
     "name": "stdout",
     "output_type": "stream",
     "text": [
      "[0.05085746571421623, 0.05085746571421623]\n"
     ]
    }
   ],
   "source": [
    "print(results)"
   ]
  },
  {
   "cell_type": "code",
   "execution_count": 13,
   "metadata": {},
   "outputs": [],
   "source": [
    "def my_softplus(z): # return value is just tf.nn.softplus(z)\n",
    "    return tf.math.log(tf.exp(z) + 1.0)\n",
    "\n",
    "def my_glorot_initializer(shape, dtype=tf.float32):\n",
    "    stddev = tf.sqrt(2. / (shape[0] + shape[1]))\n",
    "    return tf.random.normal(shape, stddev=stddev, dtype=dtype)\n",
    "\n",
    "def my_l1_regularizer(weights):\n",
    "    return tf.reduce_sum(tf.abs(0.01 * weights))\n",
    "\n",
    "def my_positive_weights(weights): # return value is just tf.nn.relu(weights)\n",
    "    return tf.where(weights < 0., tf.zeros_like(weights), weights)"
   ]
  },
  {
   "cell_type": "code",
   "execution_count": 16,
   "metadata": {},
   "outputs": [],
   "source": [
    "model = tf.keras.models.Sequential([\n",
    "    tf.keras.Input((X_train.shape[1])),\n",
    "    tf.keras.layers.Dense(50, activation=\"selu\", kernel_initializer=\"lecun_normal\"),\n",
    "    tf.keras.layers.Dense(25, activation=\"selu\", kernel_initializer=\"lecun_normal\"),\n",
    "    tf.keras.layers.Dense(10, activation=\"selu\", kernel_initializer=\"lecun_normal\"),\n",
    "    tf.keras.layers.Dense(1, activation=my_softplus,\n",
    "                       kernel_regularizer=my_l1_regularizer,\n",
    "                       kernel_constraint=my_positive_weights,\n",
    "                       kernel_initializer=my_glorot_initializer),\n",
    "])"
   ]
  },
  {
   "cell_type": "code",
   "execution_count": 17,
   "metadata": {},
   "outputs": [],
   "source": [
    "model.compile(loss=\"mse\", optimizer=\"nadam\", metrics=[\"mae\"])"
   ]
  },
  {
   "cell_type": "code",
   "execution_count": 18,
   "metadata": {},
   "outputs": [
    {
     "name": "stdout",
     "output_type": "stream",
     "text": [
      "Epoch 1/15\n",
      "3773/3773 [==============================] - 4s 1ms/step - loss: 0.9278 - mae: 0.5188 - val_loss: 0.2371 - val_mae: 0.3455\n",
      "Epoch 2/15\n",
      "3773/3773 [==============================] - 4s 1ms/step - loss: 0.2305 - mae: 0.3421 - val_loss: 0.1511 - val_mae: 0.2516\n",
      "Epoch 3/15\n",
      "3773/3773 [==============================] - 4s 1ms/step - loss: 0.1666 - mae: 0.2687 - val_loss: 0.1628 - val_mae: 0.2490\n",
      "Epoch 4/15\n",
      "3773/3773 [==============================] - 4s 1ms/step - loss: 0.1352 - mae: 0.2351 - val_loss: 0.1447 - val_mae: 0.2565\n",
      "Epoch 5/15\n",
      "3773/3773 [==============================] - 4s 1ms/step - loss: 0.1204 - mae: 0.2162 - val_loss: 0.1054 - val_mae: 0.1929\n",
      "Epoch 6/15\n",
      "3773/3773 [==============================] - 4s 1ms/step - loss: 0.1158 - mae: 0.2117 - val_loss: 0.0990 - val_mae: 0.1807\n",
      "Epoch 7/15\n",
      "3773/3773 [==============================] - 4s 1ms/step - loss: 0.1086 - mae: 0.2021 - val_loss: 0.0985 - val_mae: 0.1771\n",
      "Epoch 8/15\n",
      "3773/3773 [==============================] - 5s 1ms/step - loss: 0.1044 - mae: 0.1943 - val_loss: 0.0939 - val_mae: 0.2037\n",
      "Epoch 9/15\n",
      "3773/3773 [==============================] - 4s 1ms/step - loss: 0.0897 - mae: 0.1766 - val_loss: 0.0769 - val_mae: 0.1601\n",
      "Epoch 10/15\n",
      "3773/3773 [==============================] - 4s 1ms/step - loss: 0.0859 - mae: 0.1712 - val_loss: 0.0796 - val_mae: 0.1578\n",
      "Epoch 11/15\n",
      "3773/3773 [==============================] - 4s 1ms/step - loss: 0.0820 - mae: 0.1672 - val_loss: 0.0610 - val_mae: 0.1448\n",
      "Epoch 12/15\n",
      "3773/3773 [==============================] - 5s 1ms/step - loss: 0.0764 - mae: 0.1583 - val_loss: 0.0982 - val_mae: 0.2169\n",
      "Epoch 13/15\n",
      "3773/3773 [==============================] - 4s 1ms/step - loss: 0.0727 - mae: 0.1533 - val_loss: 0.0733 - val_mae: 0.1403\n",
      "Epoch 14/15\n",
      "3773/3773 [==============================] - 4s 1ms/step - loss: 0.0711 - mae: 0.1507 - val_loss: 0.0528 - val_mae: 0.1246\n",
      "Epoch 15/15\n",
      "3773/3773 [==============================] - 4s 1ms/step - loss: 0.0681 - mae: 0.1467 - val_loss: 0.0680 - val_mae: 0.1491\n"
     ]
    }
   ],
   "source": [
    "history = model.fit(train_dataset, validation_data=test_dataset,epochs=15)"
   ]
  },
  {
   "cell_type": "code",
   "execution_count": 19,
   "metadata": {},
   "outputs": [
    {
     "name": "stdout",
     "output_type": "stream",
     "text": [
      "944/944 [==============================] - 1s 692us/step - loss: 0.0680 - mae: 0.1491\n",
      "[0.0679691880941391, 0.14905160665512085]\n"
     ]
    }
   ],
   "source": [
    "results = model.evaluate(test_dataset)\n",
    "print(results)"
   ]
  },
  {
   "cell_type": "code",
   "execution_count": 21,
   "metadata": {},
   "outputs": [
    {
     "data": {
      "image/png": "[encoded data removed]",
      "text/plain": [
       "<Figure size 432x288 with 1 Axes>"
      ]
     },
     "metadata": {
      "needs_background": "light"
     },
     "output_type": "display_data"
    },
    {
     "data": {
      "image/png": "[encoded data removed]",
      "text/plain": [
       "<Figure size 432x288 with 1 Axes>"
      ]
     },
     "metadata": {
      "needs_background": "light"
     },
     "output_type": "display_data"
    }
   ],
   "source": [
    "import matplotlib.pyplot as plt\n",
    "plt.plot(history.history['loss'], color = 'blue')\n",
    "plt.plot(history.history['val_loss'], color=  'red')\n",
    "plt.title('model loss')\n",
    "plt.ylabel('loss')\n",
    "plt.xlabel('epoch')\n",
    "plt.legend(['train', 'test'], loc='upper left')\n",
    "plt.show()\n",
    "plt.plot(history.history['mae'], color = 'blue')\n",
    "plt.plot(history.history['val_mae'], color=  'red')\n",
    "plt.title('model acc')\n",
    "plt.ylabel('loss')\n",
    "plt.xlabel('epoch')\n",
    "plt.legend(['train', 'test'], loc='upper left')\n",
    "plt.show()"
   ]
  },
  {
   "cell_type": "code",
   "execution_count": null,
   "metadata": {},
   "outputs": [],
   "source": []
  }
 ],
 "metadata": {
  "kernelspec": {
   "display_name": "Python 3",
   "language": "python",
   "name": "python3"
  },
  "language_info": {
   "codemirror_mode": {
    "name": "ipython",
    "version": 3
   },
   "file_extension": ".py",
   "mimetype": "text/x-python",
   "name": "python",
   "nbconvert_exporter": "python",
   "pygments_lexer": "ipython3",
   "version": "3.7.6"
  }
 },
 "nbformat": 4,
 "nbformat_minor": 4
}
